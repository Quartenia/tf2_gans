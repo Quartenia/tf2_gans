{
 "cells": [
  {
   "cell_type": "code",
   "execution_count": null,
   "metadata": {},
   "outputs": [],
   "source": [
    "# default_exp core"
   ]
  },
  {
   "cell_type": "markdown",
   "metadata": {},
   "source": [
    "# tf2_gans\n",
    "\n",
    "> API details."
   ]
  },
  {
   "cell_type": "code",
   "execution_count": null,
   "metadata": {},
   "outputs": [],
   "source": [
    "#hide\n",
    "from nbdev import *"
   ]
  },
  {
   "cell_type": "code",
   "execution_count": null,
   "metadata": {},
   "outputs": [],
   "source": [
    "import tensorflow as tf"
   ]
  },
  {
   "cell_type": "code",
   "execution_count": null,
   "metadata": {},
   "outputs": [],
   "source": [
    "%nbdev_export\n",
    "class TrainerBase(object):\n",
    "    \"Base class for GANs trainer\"\n",
    "    def __init__(self):\n",
    "        self.has_trained = False\n",
    "\n",
    "    def set_training_parameters(self,\n",
    "                                epochs=10,\n",
    "                                continue_training=False,\n",
    "                                save_fq=0,\n",
    "                                preview_fq=5,\n",
    "                                progress_fn=None,\n",
    "                                preview_fn=None):\n",
    "        self.epochs = epochs\n",
    "        self.continue_training = continue_training\n",
    "        self.save_fq = save_fq\n",
    "        self.preview_fq = preview_fq\n",
    "        self.progress_fn = progress_fn\n",
    "        self.preview_fn = preview_fn\n",
    "\n",
    "        print(\"parameters set\")\n",
    "\n",
    "    def train_epoch(self):\n",
    "        pass\n",
    "\n",
    "    def preprocess_data(self, raw_data):\n",
    "        self.raw_data = raw_data\n",
    "        return self.raw_data\n",
    "\n",
    "    def dataset_generator(self):\n",
    "        pass\n",
    "\n",
    "    def create_tf_dataset(self):\n",
    "        self.dataset = tf.data.Dataset.from_generator(self.dataset_generator,\n",
    "                                                      self.output_type)\n",
    "        self.dataset = self.dataset.batch(self.batch_size)\n",
    "        return self.dataset\n",
    "\n",
    "    def init_dataset(self, raw_data, input_size, crop_size, batch_size=1):\n",
    "        self.input_size = input_size\n",
    "        self.crop_size = crop_size\n",
    "        self.batch_size = batch_size\n",
    "        self.output_type = tf.float32\n",
    "        self.preprocess_data(raw_data)\n",
    "        self.create_tf_dataset()\n",
    "        return self.dataset\n",
    "\n",
    "    def train(self):\n",
    "        if self.progress_fn:\n",
    "            self.progress_fn(0.0)\n",
    "        self.has_trained = True\n",
    "\n",
    "        if self.continue_training:\n",
    "            pass\n",
    "        else:\n",
    "            # reset weights\n",
    "            pass\n",
    "\n",
    "        for epoch in range(1, self.epochs+1):\n",
    "            self.train_epoch()\n",
    "\n",
    "            self.end_epoch(epoch)\n",
    "\n",
    "        print(\"saving last epoch\")\n",
    "\n",
    "    def end_epoch(self, epoch):\n",
    "        if self.progress_fn:\n",
    "            self.progress_fn((100*epoch)//self.epochs)\n",
    "\n",
    "        if epoch % (self.epochs//self.preview_fq) == 0:\n",
    "            if self.preview_fn:\n",
    "                self.preview_fn(self.generate_preview())\n",
    "\n",
    "        print(\"Epoch: \", epoch)\n",
    "\n",
    "        if (self.epochs//self.save_fq) == 0:\n",
    "            self.save_models()\n",
    "\n",
    "    def generate_preview(self):\n",
    "        return {}\n",
    "\n",
    "    def save_models(self):\n",
    "        pass\n",
    "\n",
    "    def generate_sample(self):\n",
    "        pass\n",
    "\n",
    "    def train_step(self, input_image, target):\n",
    "        pass\n"
   ]
  }
 ],
 "metadata": {
  "kernelspec": {
   "display_name": "Python 3",
   "language": "python",
   "name": "python3"
  }
 },
 "nbformat": 4,
 "nbformat_minor": 2
}
